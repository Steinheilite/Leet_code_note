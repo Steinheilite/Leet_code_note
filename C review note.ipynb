{
 "cells": [
  {
   "cell_type": "markdown",
   "id": "2af07858",
   "metadata": {},
   "source": [
    "C study note "
   ]
  },
  {
   "cell_type": "markdown",
   "id": "b385ac13",
   "metadata": {},
   "source": [
    "The key words in C language  \n",
    "    auto\tbreak\tcase\tchar\n",
    "    ##const##\tcontinue\tdefault\tdo\n",
    "    double\telse\t##enum##\textern\n",
    "    float\tfor\tgoto\tif\n",
    "    int\tlong\tregister\treturn\n",
    "    short\tsigned\tsizeof\t##static##\n",
    "    struct\tswitch\ttypedef\tunion\n",
    "    unsigned\tvoid\t##volatile##\n",
    "    while"
   ]
  },
  {
   "cell_type": "markdown",
   "id": "d76bb72f",
   "metadata": {},
   "source": [
    "Const  \n",
    "    used to define contant\n",
    "enum \n",
    "    Enumeration types created with alot tags \n",
    "    \n",
    "static \n",
    "    The static keyword creates a static variable. The value of the static variables persists until the end of the program. \n",
    "union\n",
    "    A union is used for grouping different types of variables under a single name.\n",
    "volatile \n",
    "   change when other programs \n",
    "   The volatile keyword is used for creating volatile objects. A volatile object can be modified in an unspecified way by the hardware."
   ]
  }
 ],
 "metadata": {
  "kernelspec": {
   "display_name": "Python 3 (ipykernel)",
   "language": "python",
   "name": "python3"
  },
  "language_info": {
   "codemirror_mode": {
    "name": "ipython",
    "version": 3
   },
   "file_extension": ".py",
   "mimetype": "text/x-python",
   "name": "python",
   "nbconvert_exporter": "python",
   "pygments_lexer": "ipython3",
   "version": "3.9.12"
  }
 },
 "nbformat": 4,
 "nbformat_minor": 5
}
