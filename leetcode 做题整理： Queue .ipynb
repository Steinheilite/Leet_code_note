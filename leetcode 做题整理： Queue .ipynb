{
 "cells": [
  {
   "cell_type": "markdown",
   "id": "652e6363",
   "metadata": {},
   "source": [
    "Leet code 做题积累： Queue "
   ]
  },
  {
   "cell_type": "markdown",
   "id": "b013a4cb",
   "metadata": {},
   "source": [
    "Questrion discription: Given an n-ary tree, return the level order traversal of its nodes' values."
   ]
  },
  {
   "cell_type": "markdown",
   "id": "6c1c74cb",
   "metadata": {},
   "source": [
    "Solving method : Queue(队列)algorism . It is a linear data structure that open at both end that follows 1 rule. First in First Out.     "
   ]
  },
  {
   "cell_type": "markdown",
   "id": "ddb515fa",
   "metadata": {},
   "source": [
    "Position of the entry in a queue ready to be served, that is, the first entry that will be removed from the queue, is called the front of the queue(sometimes, head of the queue), similarly, the position of the last entry in the queue, that is, the one most recently added, is called the rear (or the tail) of the queue. See the below figure.\n"
   ]
  },
  {
   "cell_type": "code",
   "execution_count": null,
   "id": "8a492052",
   "metadata": {},
   "outputs": [],
   "source": [
    "class Solution:\n",
    "    def levelOrder(self, root: Optional['Node']) -> List[List[int]]:\n",
    "        if root is None:\n",
    "            return []\n",
    "        result = []\n",
    "        queue = collections.deque([root])\n",
    "        #Make a list to put integers in, and a queue to put nodes on. \n",
    "        #Put the root node onto the queue\n",
    "        while queue:\n",
    "            level = []\n",
    "            for _ in range(len(queue)):\n",
    "                node = queue.popleft()\n",
    "                level.append(node.val)\n",
    "                queue.extend(node.children)\n",
    "                #take a node off the queue, add its value to the list, and add each of its children onto the queue.\n",
    "            result.append(level)\n",
    "        return result"
   ]
  }
 ],
 "metadata": {
  "kernelspec": {
   "display_name": "Python 3 (ipykernel)",
   "language": "python",
   "name": "python3"
  },
  "language_info": {
   "codemirror_mode": {
    "name": "ipython",
    "version": 3
   },
   "file_extension": ".py",
   "mimetype": "text/x-python",
   "name": "python",
   "nbconvert_exporter": "python",
   "pygments_lexer": "ipython3",
   "version": "3.9.12"
  }
 },
 "nbformat": 4,
 "nbformat_minor": 5
}
